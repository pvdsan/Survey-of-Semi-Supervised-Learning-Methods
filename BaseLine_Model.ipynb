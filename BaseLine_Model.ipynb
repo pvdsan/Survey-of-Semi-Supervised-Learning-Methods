{
 "cells": [
  {
   "cell_type": "code",
   "execution_count": 1,
   "metadata": {},
   "outputs": [],
   "source": [
    "import numpy as np\n",
    "import torch\n",
    "import torch.nn as nn\n",
    "import torch.nn.functional as F\n",
    "from torch.utils.data import DataLoader, TensorDataset, Subset"
   ]
  },
  {
   "cell_type": "code",
   "execution_count": 2,
   "metadata": {},
   "outputs": [],
   "source": [
    "data = np.load('./Mnist_10000._samples.npy')"
   ]
  },
  {
   "cell_type": "code",
   "execution_count": 3,
   "metadata": {},
   "outputs": [
    {
     "name": "stdout",
     "output_type": "stream",
     "text": [
      "10000\n"
     ]
    },
    {
     "name": "stderr",
     "output_type": "stream",
     "text": [
      "C:\\Users\\Sanket\\AppData\\Local\\Temp\\ipykernel_7760\\979794414.py:2: UserWarning: Creating a tensor from a list of numpy.ndarrays is extremely slow. Please consider converting the list to a single numpy.ndarray with numpy.array() before converting to a tensor. (Triggered internally at C:\\cb\\pytorch_1000000000000\\work\\torch\\csrc\\utils\\tensor_new.cpp:264.)\n",
      "  images = torch.tensor([item['image'] for item in data], dtype=torch.float32)\n"
     ]
    }
   ],
   "source": [
    "# Convert the structured array to PyTorch tensors\n",
    "images = torch.tensor([item['image'] for item in data], dtype=torch.float32)\n",
    "labels = torch.tensor([item['label'] for item in data], dtype=torch.long)\n",
    "\n",
    "# Flatten the images for a simple fully connected network\n",
    "images = images.view(images.shape[0], -1)\n",
    "\n",
    "print(len(images))\n",
    "\n",
    "# Create a dataset and data loader\n",
    "dataset = TensorDataset(images, labels)\n",
    "#loader = DataLoader(dataset, batch_size=10, shuffle=False)"
   ]
  },
  {
   "cell_type": "code",
   "execution_count": 4,
   "metadata": {},
   "outputs": [],
   "source": [
    "class_indices = {k: [] for k in range(10)}  # Assuming 10 classes (0-9)\n",
    "for idx, (image, label) in enumerate(dataset):\n",
    "    class_indices[label.item()].append(idx)\n",
    "\n",
    "# Step 2: Randomly select 10 samples from each class\n",
    "train_indices = []\n",
    "for indices in class_indices.values():\n",
    "    train_indices.extend(np.random.choice(indices, 10, replace=False))\n",
    "\n",
    "# Create a mask for the rest of the data for testing\n",
    "mask = np.ones(len(dataset), dtype=bool)\n",
    "mask[train_indices] = False\n",
    "test_indices = np.arange(len(dataset))[mask]\n",
    "\n",
    "# Step 3: Create training and testing subsets\n",
    "train_subset = Subset(dataset, train_indices)\n",
    "test_subset = Subset(dataset, test_indices)"
   ]
  },
  {
   "cell_type": "code",
   "execution_count": 5,
   "metadata": {},
   "outputs": [
    {
     "name": "stdout",
     "output_type": "stream",
     "text": [
      "Number of samples in test set: 9900\n",
      "Number of batches in test loader: 990\n"
     ]
    }
   ],
   "source": [
    "# Step 4: Create DataLoaders\n",
    "train_loader = DataLoader(train_subset, batch_size=10, shuffle=True)\n",
    "test_loader = DataLoader(test_subset, batch_size=10, shuffle=False)\n",
    "\n",
    "\n",
    "print(\"Number of samples in test set:\", len(test_subset))\n",
    "print(\"Number of batches in test loader:\", len(test_loader))"
   ]
  },
  {
   "cell_type": "code",
   "execution_count": 6,
   "metadata": {},
   "outputs": [],
   "source": [
    "class Net(nn.Module):\n",
    "\n",
    "    def __init__(self):\n",
    "\n",
    "        super(Net,self).__init__()\n",
    "\n",
    "        self.fullyConnectedLayer = nn.Sequential(\n",
    "            nn.Linear(784, 200),\n",
    "            nn.ReLU(),\n",
    "            nn.Linear(200,10)\n",
    "        )\n",
    "\n",
    "    def forward(self, input):\n",
    "\n",
    "        output = self.fullyConnectedLayer(input)\n",
    "        activatedOutput = F.log_softmax(output, dim = 1)\n",
    "\n",
    "        return activatedOutput\n",
    "    "
   ]
  },
  {
   "cell_type": "code",
   "execution_count": 7,
   "metadata": {},
   "outputs": [],
   "source": [
    "baseModel = Net()"
   ]
  },
  {
   "cell_type": "code",
   "execution_count": 8,
   "metadata": {},
   "outputs": [
    {
     "name": "stdout",
     "output_type": "stream",
     "text": [
      "Epoch 1, Loss: 2.303950786590576\n",
      "Epoch 2, Loss: 2.3042502403259277\n",
      "Epoch 3, Loss: 2.298736095428467\n",
      "Epoch 4, Loss: 2.299814462661743\n",
      "Epoch 5, Loss: 2.297729730606079\n",
      "Epoch 6, Loss: 2.305091619491577\n",
      "Epoch 7, Loss: 2.2942588329315186\n",
      "Epoch 8, Loss: 2.2795193195343018\n",
      "Epoch 9, Loss: 2.3095154762268066\n",
      "Epoch 10, Loss: 2.314253330230713\n"
     ]
    }
   ],
   "source": [
    "import torch.optim as optim\n",
    "\n",
    "\n",
    "# Loss function and optimizer\n",
    "criterion = nn.NLLLoss()\n",
    "optimizer = optim.SGD(baseModel.parameters(), lr=0.01)\n",
    "\n",
    "\n",
    "def train(model, loader, criterion, optimizer, epochs = 1000):\n",
    "\n",
    "    # Training loop\n",
    "    for epoch in range(epochs):\n",
    "        for images, labels in loader:\n",
    "            \n",
    "            optimizer.zero_grad()      # Zero the gradient buffers\n",
    "            output = model(images)     # Pass the batch through the network\n",
    "            loss = criterion(output, labels) # Calculate the loss\n",
    "            loss.backward()            # Backpropagate\n",
    "            optimizer.step()           # Update weights\n",
    "\n",
    "        print(f'Epoch {epoch+1}, Loss: {loss.item()}')\n",
    "\n",
    "train(baseModel, train_loader, criterion, optimizer, 10)\n"
   ]
  },
  {
   "cell_type": "code",
   "execution_count": 19,
   "metadata": {},
   "outputs": [
    {
     "name": "stdout",
     "output_type": "stream",
     "text": [
      "Training Accuracy: 13.0%\n",
      "Testing Accuracy: 10.181818181818182%\n"
     ]
    }
   ],
   "source": [
    "def calculate_accuracy(loader, model):\n",
    "    correct = 0\n",
    "    total = 0\n",
    "    with torch.no_grad():\n",
    "        for images, labels in loader:\n",
    "            outputs = model(images)\n",
    "            _, predicted = torch.max(outputs.data, 1)\n",
    "            total += labels.size(0)\n",
    "            correct += (predicted == labels).sum().item()\n",
    "\n",
    "    return 100 * correct / total\n",
    "\n",
    "train_accuracy = calculate_accuracy(train_loader, baseModel)\n",
    "test_accuracy = calculate_accuracy(test_loader, baseModel)\n",
    "\n",
    "print(f'Training Accuracy: {train_accuracy}%')\n",
    "print(f'Testing Accuracy: {test_accuracy}%')"
   ]
  },
  {
   "cell_type": "markdown",
   "metadata": {},
   "source": [
    "## Baseline Performance for Two Moons Dataset"
   ]
  },
  {
   "cell_type": "code",
   "execution_count": 37,
   "metadata": {},
   "outputs": [],
   "source": [
    "selected_samples = np.load('./selected_samples.npy')\n",
    "\n",
    "remaining_samples = np.load('./remaining_dataset.npy')\n",
    "\n",
    "# Converting the selected samples and remaining samples into PyTorch tensors\n",
    "selected_samples_tensor = torch.tensor(selected_samples, dtype=torch.float32)\n",
    "remaining_samples_tensor = torch.tensor(remaining_samples, dtype=torch.float32)\n",
    "\n",
    "# Extracting features and labels for both datasets\n",
    "features_selected = selected_samples_tensor[:, :2]\n",
    "labels_selected = selected_samples_tensor[:, 2].long()  # converting labels to long for classification\n",
    "\n",
    "features_remaining = remaining_samples_tensor[:, :2]\n",
    "labels_remaining = remaining_samples_tensor[:, 2].long()\n",
    "\n",
    "# Creating TensorDatasets\n",
    "selected_dataset = TensorDataset(features_selected, labels_selected)\n",
    "remaining_dataset = TensorDataset(features_remaining, labels_remaining)\n",
    "\n",
    "# Creating DataLoaders\n",
    "selected_loader = DataLoader(selected_dataset, batch_size=1)  # small batch size for the small dataset\n",
    "remaining_loader = DataLoader(remaining_dataset, batch_size=10)  # larger batch size for the larger dataset"
   ]
  },
  {
   "cell_type": "code",
   "execution_count": 42,
   "metadata": {},
   "outputs": [],
   "source": [
    "class TwoMoonsNet(nn.Module):\n",
    "\n",
    "    def __init__(self):\n",
    "\n",
    "        super(TwoMoonsNet,self).__init__()\n",
    "\n",
    "        self.fullyConnectedLayer = nn.Sequential(\n",
    "            nn.Linear(2, 10),\n",
    "            nn.ReLU(),\n",
    "            nn.Linear(10,2)\n",
    "        )\n",
    "\n",
    "    def forward(self, input):\n",
    "\n",
    "        output = self.fullyConnectedLayer(input)\n",
    "        activatedOutput = F.log_softmax(output, dim = 1)\n",
    "\n",
    "        return activatedOutput"
   ]
  },
  {
   "cell_type": "code",
   "execution_count": 46,
   "metadata": {},
   "outputs": [],
   "source": [
    "model2 = TwoMoonsNet()\n",
    "\n",
    "criterion = nn.CrossEntropyLoss()\n",
    "optimizer = optim.SGD(model2.parameters(), lr=0.01)"
   ]
  },
  {
   "cell_type": "code",
   "execution_count": 47,
   "metadata": {},
   "outputs": [
    {
     "name": "stdout",
     "output_type": "stream",
     "text": [
      "Epoch 1, Loss: 0.5281192064285278\n",
      "Epoch 2, Loss: 0.5223095417022705\n",
      "Epoch 3, Loss: 0.5162363648414612\n",
      "Epoch 4, Loss: 0.509925901889801\n",
      "Epoch 5, Loss: 0.5034029483795166\n"
     ]
    }
   ],
   "source": [
    "train(model2,selected_loader, criterion, optimizer, 5)"
   ]
  },
  {
   "cell_type": "code",
   "execution_count": 48,
   "metadata": {},
   "outputs": [
    {
     "name": "stdout",
     "output_type": "stream",
     "text": [
      "Training Accuracy: 83.33333333333333%\n",
      "Testing Accuracy: 71.27659574468085%\n"
     ]
    }
   ],
   "source": [
    "train_accuracy = calculate_accuracy(selected_loader, model2)\n",
    "test_accuracy = calculate_accuracy(remaining_loader, model2)\n",
    "\n",
    "print(f'Training Accuracy: {train_accuracy}%')\n",
    "print(f'Testing Accuracy: {test_accuracy}%')\n"
   ]
  },
  {
   "cell_type": "code",
   "execution_count": null,
   "metadata": {},
   "outputs": [],
   "source": []
  }
 ],
 "metadata": {
  "kernelspec": {
   "display_name": "ML_Project",
   "language": "python",
   "name": "python3"
  },
  "language_info": {
   "codemirror_mode": {
    "name": "ipython",
    "version": 3
   },
   "file_extension": ".py",
   "mimetype": "text/x-python",
   "name": "python",
   "nbconvert_exporter": "python",
   "pygments_lexer": "ipython3",
   "version": "3.8.18"
  }
 },
 "nbformat": 4,
 "nbformat_minor": 2
}
