{
 "cells": [
  {
   "cell_type": "code",
   "execution_count": 48,
   "metadata": {},
   "outputs": [],
   "source": [
    "import numpy as np\n",
    "import torch\n",
    "import torch.nn as nn\n",
    "import torch.nn.functional as F\n",
    "from torch.utils.data import DataLoader, TensorDataset, Subset"
   ]
  },
  {
   "cell_type": "code",
   "execution_count": 49,
   "metadata": {},
   "outputs": [],
   "source": [
    "data = np.load('./Mnist_10000._samples.npy')"
   ]
  },
  {
   "cell_type": "code",
   "execution_count": 50,
   "metadata": {},
   "outputs": [],
   "source": [
    "# Convert the structured array to PyTorch tensors\n",
    "images = torch.tensor([item['image'] for item in data], dtype=torch.float32)\n",
    "labels = torch.tensor([item['label'] for item in data], dtype=torch.long)\n",
    "\n",
    "# Flatten the images for a simple fully connected network\n",
    "images = images.view(images.shape[0], -1)\n",
    "\n",
    "\n",
    "# Create a dataset and data loader\n",
    "dataset = TensorDataset(images, labels)\n"
   ]
  },
  {
   "cell_type": "code",
   "execution_count": 51,
   "metadata": {},
   "outputs": [],
   "source": [
    "class_indices = {k: [] for k in range(10)}  # Assuming 10 classes (0-9)\n",
    "for idx, (image, label) in enumerate(dataset):\n",
    "    class_indices[label.item()].append(idx)\n",
    "\n",
    "# Step 2: Randomly select 10 samples from each class\n",
    "labeled_indices = []\n",
    "for indices in class_indices.values():\n",
    "    labeled_indices.extend(np.random.choice(indices, 10, replace=False))\n",
    "\n",
    "# Create a mask for the rest of the data for testing\n",
    "mask = np.ones(len(dataset), dtype=bool)\n",
    "mask[labeled_indices] = False\n",
    "unlabeled_indices = np.arange(len(dataset))[mask]\n",
    "\n",
    "# Step 3: Create training and testing subsets\n",
    "labeled_set = Subset(dataset, labeled_indices)\n",
    "unlabeled_set = Subset(dataset, unlabeled_indices)"
   ]
  },
  {
   "cell_type": "code",
   "execution_count": 52,
   "metadata": {},
   "outputs": [],
   "source": [
    "# Step 4: Create DataLoaders\n",
    "labeledLoader = DataLoader(labeled_set, batch_size=10, shuffle=True)\n",
    "unlabeledLoader = DataLoader(unlabeled_set, batch_size=50, shuffle=False)\n"
   ]
  },
  {
   "cell_type": "code",
   "execution_count": 53,
   "metadata": {},
   "outputs": [],
   "source": [
    "class Net(nn.Module):\n",
    "\n",
    "    def __init__(self):\n",
    "\n",
    "        super(Net,self).__init__()\n",
    "\n",
    "        self.fullyConnectedLayer = nn.Sequential(\n",
    "            nn.Linear(784, 200),\n",
    "            nn.ReLU(),\n",
    "            nn.Linear(200,10)\n",
    "        )\n",
    "\n",
    "    def forward(self, input):\n",
    "\n",
    "        output = self.fullyConnectedLayer(input)\n",
    "        activatedOutput = F.log_softmax(output, dim = 1)\n",
    "\n",
    "        return activatedOutput\n",
    "    "
   ]
  },
  {
   "cell_type": "code",
   "execution_count": 54,
   "metadata": {},
   "outputs": [],
   "source": [
    "#Create entropy loss for the unlabeled data \n",
    "\n",
    "def entropy_loss(logits):\n",
    "    p = F.softmax(logits, dim=1)\n",
    "    log_p = F.log_softmax(logits, dim=1)\n",
    "    loss = -torch.sum(p * log_p, dim=1).mean()\n",
    "    return loss"
   ]
  },
  {
   "cell_type": "code",
   "execution_count": 55,
   "metadata": {},
   "outputs": [],
   "source": [
    "model1 = Net()"
   ]
  },
  {
   "cell_type": "code",
   "execution_count": 56,
   "metadata": {},
   "outputs": [
    {
     "name": "stdout",
     "output_type": "stream",
     "text": [
      "The supervised loss for epoch0 is:2.289170265197754\n",
      "The un-supervised loss for epoch0 is:2.3019609451293945\n",
      "The supervised loss for epoch1 is:2.2965118885040283\n",
      "The un-supervised loss for epoch1 is:2.3019821643829346\n",
      "The supervised loss for epoch2 is:2.3038361072540283\n",
      "The un-supervised loss for epoch2 is:2.302002191543579\n",
      "The supervised loss for epoch3 is:2.2853522300720215\n",
      "The un-supervised loss for epoch3 is:2.3020195960998535\n",
      "The supervised loss for epoch4 is:2.2933411598205566\n",
      "The un-supervised loss for epoch4 is:2.302036762237549\n",
      "The supervised loss for epoch5 is:2.276184558868408\n",
      "The un-supervised loss for epoch5 is:2.3020517826080322\n",
      "The supervised loss for epoch6 is:2.286893129348755\n",
      "The un-supervised loss for epoch6 is:2.302065372467041\n",
      "The supervised loss for epoch7 is:2.2815845012664795\n",
      "The un-supervised loss for epoch7 is:2.302081346511841\n",
      "The supervised loss for epoch8 is:2.253382682800293\n",
      "The un-supervised loss for epoch8 is:2.3020942211151123\n",
      "The supervised loss for epoch9 is:2.301543712615967\n",
      "The un-supervised loss for epoch9 is:2.3021090030670166\n"
     ]
    }
   ],
   "source": [
    "import torch.optim as optim\n",
    "\n",
    "optimizer1 = optim.SGD(model1.parameters(), lr=0.03)\n",
    "optimizer2 = optim.SGD(model1.parameters(), lr = 0.001)\n",
    "num_epochs = 10\n",
    "loss = 0\n",
    "unsupervised_loss = 0\n",
    "\n",
    "for epoch in range(num_epochs):\n",
    "    model1.train()\n",
    "    \n",
    "    # Train on labeled data\n",
    "    for images, labels in labeledLoader:\n",
    "        optimizer1.zero_grad()\n",
    "        outputs = model1(images)\n",
    "        loss = F.cross_entropy(outputs, labels)\n",
    "        loss.backward()\n",
    "        optimizer1.step()\n",
    "\n",
    "    print(f\"The supervised loss for epoch{epoch} is:{loss}\")\n",
    "    \n",
    "    # Train on unlabeled data\n",
    "    for images, labels in unlabeledLoader:\n",
    "        optimizer2.zero_grad()\n",
    "        outputs = model1(images)\n",
    "        unsupervised_loss = entropy_loss(outputs)\n",
    "        unsupervised_loss.backward()\n",
    "        optimizer2.step()\n",
    "\n",
    "    \n",
    "    print(f\"The un-supervised loss for epoch{epoch} is:{unsupervised_loss}\")"
   ]
  },
  {
   "cell_type": "code",
   "execution_count": 57,
   "metadata": {},
   "outputs": [
    {
     "name": "stdout",
     "output_type": "stream",
     "text": [
      "Training Accuracy: 24.0%\n",
      "Testing Accuracy: 10.666666666666666%\n"
     ]
    }
   ],
   "source": [
    "def calculate_accuracy(loader,model):\n",
    "    correct = 0\n",
    "    total = 0\n",
    "    with torch.no_grad():\n",
    "        for images, labels in loader:\n",
    "            outputs = model(images)\n",
    "            _, predicted = torch.max(outputs.data, 1)\n",
    "            total += labels.size(0)\n",
    "            correct += (predicted == labels).sum().item()  \n",
    "\n",
    "    return 100 * correct / total\n",
    "\n",
    "train_accuracy = calculate_accuracy(labeledLoader, model1)\n",
    "test_accuracy = calculate_accuracy(unlabeledLoader, model1)\n",
    "\n",
    "print(f'Training Accuracy: {train_accuracy}%')\n",
    "print(f'Testing Accuracy: {test_accuracy}%')"
   ]
  },
  {
   "cell_type": "code",
   "execution_count": null,
   "metadata": {},
   "outputs": [],
   "source": []
  },
  {
   "cell_type": "markdown",
   "metadata": {},
   "source": [
    "### Entropy minimization for Two Moons Dataset"
   ]
  },
  {
   "cell_type": "code",
   "execution_count": 68,
   "metadata": {},
   "outputs": [],
   "source": [
    "selected_samples = np.load('./selected_samples.npy')\n",
    "\n",
    "remaining_samples = np.load('./remaining_dataset.npy')\n",
    "\n",
    "# Converting the selected samples and remaining samples into PyTorch tensors\n",
    "selected_samples_tensor = torch.tensor(selected_samples, dtype=torch.float32)\n",
    "remaining_samples_tensor = torch.tensor(remaining_samples, dtype=torch.float32)\n",
    "\n",
    "# Extracting features and labels for both datasets\n",
    "features_selected = selected_samples_tensor[:, :2]\n",
    "labels_selected = selected_samples_tensor[:, 2].long()  # converting labels to long for classification\n",
    "\n",
    "features_remaining = remaining_samples_tensor[:, :2]\n",
    "labels_remaining = remaining_samples_tensor[:, 2].long()\n",
    "\n",
    "# Creating TensorDatasets\n",
    "selected_dataset = TensorDataset(features_selected, labels_selected)\n",
    "remaining_dataset = TensorDataset(features_remaining, labels_remaining)\n",
    "\n",
    "# Creating DataLoaders\n",
    "selected_loader = DataLoader(selected_dataset, batch_size=1)  # small batch size for the small dataset\n",
    "remaining_loader = DataLoader(remaining_dataset, batch_size=10)  # larger batch size for the larger dataset"
   ]
  },
  {
   "cell_type": "code",
   "execution_count": 69,
   "metadata": {},
   "outputs": [],
   "source": [
    "class TwoMoonsNet(nn.Module):\n",
    "\n",
    "    def __init__(self):\n",
    "\n",
    "        super(TwoMoonsNet,self).__init__()\n",
    "\n",
    "        self.fullyConnectedLayer = nn.Sequential(\n",
    "            nn.Linear(2, 10),\n",
    "            nn.ReLU(),\n",
    "            nn.Linear(10,2)\n",
    "        )\n",
    "\n",
    "    def forward(self, input):\n",
    "\n",
    "        output = self.fullyConnectedLayer(input)\n",
    "        activatedOutput = F.log_softmax(output, dim = 1)\n",
    "\n",
    "        return activatedOutput"
   ]
  },
  {
   "cell_type": "code",
   "execution_count": 70,
   "metadata": {},
   "outputs": [],
   "source": [
    "model2 = TwoMoonsNet()"
   ]
  },
  {
   "cell_type": "code",
   "execution_count": 71,
   "metadata": {},
   "outputs": [
    {
     "name": "stdout",
     "output_type": "stream",
     "text": [
      "The supervised loss for epoch0 is:0.48841455578804016\n",
      "The un-supervised loss for epoch0 is:0.5801041126251221\n",
      "The supervised loss for epoch1 is:0.42923659086227417\n",
      "The un-supervised loss for epoch1 is:0.5446867942810059\n",
      "The supervised loss for epoch2 is:0.38170090317726135\n",
      "The un-supervised loss for epoch2 is:0.5164116621017456\n",
      "The supervised loss for epoch3 is:0.34158214926719666\n",
      "The un-supervised loss for epoch3 is:0.4931500256061554\n",
      "The supervised loss for epoch4 is:0.3071553409099579\n",
      "The un-supervised loss for epoch4 is:0.4764765202999115\n",
      "The supervised loss for epoch5 is:0.2772395610809326\n",
      "The un-supervised loss for epoch5 is:0.46371200680732727\n",
      "The supervised loss for epoch6 is:0.2506945729255676\n",
      "The un-supervised loss for epoch6 is:0.45309799909591675\n",
      "The supervised loss for epoch7 is:0.22713176906108856\n",
      "The un-supervised loss for epoch7 is:0.4448125660419464\n",
      "The supervised loss for epoch8 is:0.20651240646839142\n",
      "The un-supervised loss for epoch8 is:0.4384482800960541\n",
      "The supervised loss for epoch9 is:0.18821103870868683\n",
      "The un-supervised loss for epoch9 is:0.4335406422615051\n"
     ]
    }
   ],
   "source": [
    "import torch.optim as optim\n",
    "\n",
    "optimizer1 = optim.SGD(model2.parameters(), lr=0.03)\n",
    "optimizer2 = optim.SGD(model2.parameters(), lr = 0.01)\n",
    "num_epochs = 10\n",
    "loss = 0\n",
    "unsupervised_loss = 0\n",
    "\n",
    "for epoch in range(num_epochs):\n",
    "    model2.train()\n",
    "    \n",
    "    # Train on labeled data\n",
    "    for images, labels in selected_loader:\n",
    "        optimizer1.zero_grad()\n",
    "        outputs = model2(images)\n",
    "        loss = F.cross_entropy(outputs, labels)\n",
    "        loss.backward()\n",
    "        optimizer1.step()\n",
    "\n",
    "    print(f\"The supervised loss for epoch{epoch} is:{loss}\")\n",
    "    \n",
    "    # Train on unlabeled data\n",
    "    for images, labels in remaining_loader:\n",
    "        optimizer2.zero_grad()\n",
    "        outputs = model2(images)\n",
    "        unsupervised_loss = entropy_loss(outputs)\n",
    "        unsupervised_loss.backward()\n",
    "        optimizer2.step()\n",
    "\n",
    "    \n",
    "    print(f\"The un-supervised loss for epoch{epoch} is:{unsupervised_loss}\")"
   ]
  },
  {
   "cell_type": "code",
   "execution_count": 72,
   "metadata": {},
   "outputs": [
    {
     "name": "stdout",
     "output_type": "stream",
     "text": [
      "Training Accuracy: 100.0%\n",
      "Testing Accuracy: 82.97872340425532%\n"
     ]
    }
   ],
   "source": [
    "train_accuracy = calculate_accuracy(selected_loader, model2)\n",
    "test_accuracy = calculate_accuracy(remaining_loader, model2)\n",
    "\n",
    "print(f'Training Accuracy: {train_accuracy}%')\n",
    "print(f'Testing Accuracy: {test_accuracy}%')"
   ]
  },
  {
   "cell_type": "code",
   "execution_count": null,
   "metadata": {},
   "outputs": [],
   "source": []
  }
 ],
 "metadata": {
  "kernelspec": {
   "display_name": "ML_Project",
   "language": "python",
   "name": "python3"
  },
  "language_info": {
   "codemirror_mode": {
    "name": "ipython",
    "version": 3
   },
   "file_extension": ".py",
   "mimetype": "text/x-python",
   "name": "python",
   "nbconvert_exporter": "python",
   "pygments_lexer": "ipython3",
   "version": "3.8.18"
  }
 },
 "nbformat": 4,
 "nbformat_minor": 2
}
